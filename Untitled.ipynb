{
 "cells": [
  {
   "cell_type": "code",
   "execution_count": 1,
   "id": "4d0ba1f4",
   "metadata": {},
   "outputs": [],
   "source": [
    "from __future__ import division\n",
    "\n",
    "import os\n",
    "import pandas as pd                     # library to handle data even from spreadsheets \n",
    "import numpy as np\n",
    "import math\n",
    "from matplotlib import pyplot as plt\n",
    "from matplotlib import rc, rcParams\n",
    "import matplotlib.ticker as mticker\n",
    "\n",
    "import scipy.integrate as integrate\n",
    "from scipy import interpolate\n",
    "from scipy.interpolate import griddata  # useful for not-regular grid points\n",
    "import scipy.special as bessel\n",
    "import scipy.optimize as opt\n",
    "from scipy.optimize import curve_fit\n",
    "\n",
    "import sys\n",
    "import pylab\n",
    "import time\n",
    "from tqdm.notebook import tqdm"
   ]
  },
  {
   "cell_type": "code",
   "execution_count": 2,
   "id": "051af3d1",
   "metadata": {},
   "outputs": [],
   "source": [
    "cm_to_pc = 3.24 * pow(10,-19)\n",
    "pc_cm = 3.0857e+18\n",
    "c = 2.99*pow(10,10)             # speed of light in [cm sec^(-1)]\n",
    "c_pcSec = c * cm_to_pc          # same, in [pc sec^{-1}]\n",
    "\n",
    "\n",
    "L_disk = 10.              # in [pc]\n",
    "M_A_disk = 1.             # Alfvénic Mach Number\n",
    "B_field = 10.\n",
    "n_ISM = 0.1\n",
    "v_A = 6.27e5 * (B_field / 3.) * (1. / n_ISM)**(1/2)                       # in [cm sec^{-1}]\n",
    "v_A_pcSec = v_A * cm_to_pc                                                # in [pc sec^{-1}]\n",
    "\n",
    "\n",
    "\n",
    "def resonance_fast( x_, xi_, mu_, R_):\n",
    "    \n",
    "    roba = (L_disk*pc_cm) * np.sqrt(np.pi) / ( np.sqrt(2) * x_ * np.abs(xi_) * c * np.sqrt( (1 - mu_**2) * M_A_disk ) ) * np.exp( - ( mu_ - v_A / (xi_ * c) )**2 / ( 2 * (1 - mu_**2) * M_A_disk ) )\n",
    "    if ( (xi_ != 0. and xi_ != -0.) and (mu_ != 1. and mu_ != -1.) ):\n",
    "        return roba \n",
    "    else:\n",
    "        return 0.\n"
   ]
  },
  {
   "cell_type": "code",
   "execution_count": 3,
   "id": "6a669723",
   "metadata": {},
   "outputs": [
    {
     "name": "stdout",
     "output_type": "stream",
     "text": [
      "6609160.309751913 29900000000.000004\n",
      "0.00022104215082782315\n"
     ]
    }
   ],
   "source": [
    "print(v_A, c)\n",
    "print(v_A / c)"
   ]
  },
  {
   "cell_type": "code",
   "execution_count": 5,
   "id": "d4b8d3d4",
   "metadata": {},
   "outputs": [
    {
     "name": "stderr",
     "output_type": "stream",
     "text": [
      "/var/folders/7v/3qsg7nrd5fx6_1r1kwx67hlm0000gn/T/ipykernel_52261/2870964804.py:18: RuntimeWarning: divide by zero encountered in scalar divide\n",
      "  roba = (L_disk*pc_cm) * np.sqrt(np.pi) / ( np.sqrt(2) * x_ * np.abs(xi_) * c * np.sqrt( (1 - mu_**2) * M_A_disk ) ) * np.exp( - ( mu_ - v_A / (xi_ * c) )**2 / ( 2 * (1 - mu_**2) * M_A_disk ) )\n",
      "/var/folders/7v/3qsg7nrd5fx6_1r1kwx67hlm0000gn/T/ipykernel_52261/2870964804.py:18: RuntimeWarning: invalid value encountered in scalar multiply\n",
      "  roba = (L_disk*pc_cm) * np.sqrt(np.pi) / ( np.sqrt(2) * x_ * np.abs(xi_) * c * np.sqrt( (1 - mu_**2) * M_A_disk ) ) * np.exp( - ( mu_ - v_A / (xi_ * c) )**2 / ( 2 * (1 - mu_**2) * M_A_disk ) )\n"
     ]
    },
    {
     "ename": "ZeroDivisionError",
     "evalue": "float division by zero",
     "output_type": "error",
     "traceback": [
      "\u001b[0;31m---------------------------------------------------------------------------\u001b[0m",
      "\u001b[0;31mZeroDivisionError\u001b[0m                         Traceback (most recent call last)",
      "Cell \u001b[0;32mIn[5], line 18\u001b[0m\n\u001b[1;32m     14\u001b[0m plt\u001b[38;5;241m.\u001b[39maxvline(x\u001b[38;5;241m=\u001b[39m\u001b[38;5;241m1\u001b[39m, ls\u001b[38;5;241m=\u001b[39m\u001b[38;5;124m'\u001b[39m\u001b[38;5;124m--\u001b[39m\u001b[38;5;124m'\u001b[39m, color\u001b[38;5;241m=\u001b[39m\u001b[38;5;124m'\u001b[39m\u001b[38;5;124morange\u001b[39m\u001b[38;5;124m'\u001b[39m)\n\u001b[1;32m     17\u001b[0m plt\u001b[38;5;241m.\u001b[39msubplot(\u001b[38;5;241m1\u001b[39m, \u001b[38;5;241m2\u001b[39m, \u001b[38;5;241m2\u001b[39m)\n\u001b[0;32m---> 18\u001b[0m plt\u001b[38;5;241m.\u001b[39mplot(mu_array, \u001b[43m[\u001b[49m\u001b[43mresonance_fast\u001b[49m\u001b[43m(\u001b[49m\u001b[38;5;241;43m1.e5\u001b[39;49m\u001b[43m,\u001b[49m\u001b[43m \u001b[49m\u001b[43mxi_here\u001b[49m\u001b[43m,\u001b[49m\u001b[43m \u001b[49m\u001b[43mmu\u001b[49m\u001b[43m,\u001b[49m\u001b[43m \u001b[49m\u001b[38;5;241;43m2.14488e-8\u001b[39;49m\u001b[43m)\u001b[49m\u001b[43m \u001b[49m\u001b[38;5;28;43;01mfor\u001b[39;49;00m\u001b[43m \u001b[49m\u001b[43mmu\u001b[49m\u001b[43m \u001b[49m\u001b[38;5;129;43;01min\u001b[39;49;00m\u001b[43m \u001b[49m\u001b[43mmu_array\u001b[49m\u001b[43m]\u001b[49m, lw\u001b[38;5;241m=\u001b[39m\u001b[38;5;241m2.\u001b[39m, color\u001b[38;5;241m=\u001b[39m\u001b[38;5;124m'\u001b[39m\u001b[38;5;124mblue\u001b[39m\u001b[38;5;124m'\u001b[39m, label\u001b[38;5;241m=\u001b[39m\u001b[38;5;124m'\u001b[39m\u001b[38;5;124mcurrent\u001b[39m\u001b[38;5;124m'\u001b[39m)\n\u001b[1;32m     19\u001b[0m plt\u001b[38;5;241m.\u001b[39mtext(\u001b[38;5;241m0.45\u001b[39m, \u001b[38;5;241m0.05\u001b[39m, \u001b[38;5;124m'\u001b[39m\u001b[38;5;124m$\u001b[39m\u001b[38;5;130;01m\\\\\u001b[39;00m\u001b[38;5;124mxi = $\u001b[39m\u001b[38;5;124m'\u001b[39m \u001b[38;5;241m+\u001b[39m \u001b[38;5;28mstr\u001b[39m(\u001b[38;5;124m\"\u001b[39m\u001b[38;5;132;01m{:.5f}\u001b[39;00m\u001b[38;5;124m\"\u001b[39m\u001b[38;5;241m.\u001b[39mformat(xi_here)), fontsize\u001b[38;5;241m=\u001b[39m\u001b[38;5;241m14\u001b[39m, transform \u001b[38;5;241m=\u001b[39m plt\u001b[38;5;241m.\u001b[39mgca()\u001b[38;5;241m.\u001b[39mtransAxes)\n\u001b[1;32m     20\u001b[0m plt\u001b[38;5;241m.\u001b[39mxlabel(\u001b[38;5;124m'\u001b[39m\u001b[38;5;124m$\u001b[39m\u001b[38;5;130;01m\\\\\u001b[39;00m\u001b[38;5;124mmu$\u001b[39m\u001b[38;5;124m'\u001b[39m, fontsize \u001b[38;5;241m=\u001b[39m \u001b[38;5;241m15\u001b[39m)\n",
      "Cell \u001b[0;32mIn[5], line 18\u001b[0m, in \u001b[0;36m<listcomp>\u001b[0;34m(.0)\u001b[0m\n\u001b[1;32m     14\u001b[0m plt\u001b[38;5;241m.\u001b[39maxvline(x\u001b[38;5;241m=\u001b[39m\u001b[38;5;241m1\u001b[39m, ls\u001b[38;5;241m=\u001b[39m\u001b[38;5;124m'\u001b[39m\u001b[38;5;124m--\u001b[39m\u001b[38;5;124m'\u001b[39m, color\u001b[38;5;241m=\u001b[39m\u001b[38;5;124m'\u001b[39m\u001b[38;5;124morange\u001b[39m\u001b[38;5;124m'\u001b[39m)\n\u001b[1;32m     17\u001b[0m plt\u001b[38;5;241m.\u001b[39msubplot(\u001b[38;5;241m1\u001b[39m, \u001b[38;5;241m2\u001b[39m, \u001b[38;5;241m2\u001b[39m)\n\u001b[0;32m---> 18\u001b[0m plt\u001b[38;5;241m.\u001b[39mplot(mu_array, [\u001b[43mresonance_fast\u001b[49m\u001b[43m(\u001b[49m\u001b[38;5;241;43m1.e5\u001b[39;49m\u001b[43m,\u001b[49m\u001b[43m \u001b[49m\u001b[43mxi_here\u001b[49m\u001b[43m,\u001b[49m\u001b[43m \u001b[49m\u001b[43mmu\u001b[49m\u001b[43m,\u001b[49m\u001b[43m \u001b[49m\u001b[38;5;241;43m2.14488e-8\u001b[39;49m\u001b[43m)\u001b[49m \u001b[38;5;28;01mfor\u001b[39;00m mu \u001b[38;5;129;01min\u001b[39;00m mu_array], lw\u001b[38;5;241m=\u001b[39m\u001b[38;5;241m2.\u001b[39m, color\u001b[38;5;241m=\u001b[39m\u001b[38;5;124m'\u001b[39m\u001b[38;5;124mblue\u001b[39m\u001b[38;5;124m'\u001b[39m, label\u001b[38;5;241m=\u001b[39m\u001b[38;5;124m'\u001b[39m\u001b[38;5;124mcurrent\u001b[39m\u001b[38;5;124m'\u001b[39m)\n\u001b[1;32m     19\u001b[0m plt\u001b[38;5;241m.\u001b[39mtext(\u001b[38;5;241m0.45\u001b[39m, \u001b[38;5;241m0.05\u001b[39m, \u001b[38;5;124m'\u001b[39m\u001b[38;5;124m$\u001b[39m\u001b[38;5;130;01m\\\\\u001b[39;00m\u001b[38;5;124mxi = $\u001b[39m\u001b[38;5;124m'\u001b[39m \u001b[38;5;241m+\u001b[39m \u001b[38;5;28mstr\u001b[39m(\u001b[38;5;124m\"\u001b[39m\u001b[38;5;132;01m{:.5f}\u001b[39;00m\u001b[38;5;124m\"\u001b[39m\u001b[38;5;241m.\u001b[39mformat(xi_here)), fontsize\u001b[38;5;241m=\u001b[39m\u001b[38;5;241m14\u001b[39m, transform \u001b[38;5;241m=\u001b[39m plt\u001b[38;5;241m.\u001b[39mgca()\u001b[38;5;241m.\u001b[39mtransAxes)\n\u001b[1;32m     20\u001b[0m plt\u001b[38;5;241m.\u001b[39mxlabel(\u001b[38;5;124m'\u001b[39m\u001b[38;5;124m$\u001b[39m\u001b[38;5;130;01m\\\\\u001b[39;00m\u001b[38;5;124mmu$\u001b[39m\u001b[38;5;124m'\u001b[39m, fontsize \u001b[38;5;241m=\u001b[39m \u001b[38;5;241m15\u001b[39m)\n",
      "Cell \u001b[0;32mIn[2], line 18\u001b[0m, in \u001b[0;36mresonance_fast\u001b[0;34m(x_, xi_, mu_, R_)\u001b[0m\n\u001b[1;32m     16\u001b[0m \u001b[38;5;28;01mdef\u001b[39;00m \u001b[38;5;21mresonance_fast\u001b[39m( x_, xi_, mu_, R_):\n\u001b[0;32m---> 18\u001b[0m     roba \u001b[38;5;241m=\u001b[39m (L_disk\u001b[38;5;241m*\u001b[39mpc_cm) \u001b[38;5;241m*\u001b[39m np\u001b[38;5;241m.\u001b[39msqrt(np\u001b[38;5;241m.\u001b[39mpi) \u001b[38;5;241m/\u001b[39m ( np\u001b[38;5;241m.\u001b[39msqrt(\u001b[38;5;241m2\u001b[39m) \u001b[38;5;241m*\u001b[39m x_ \u001b[38;5;241m*\u001b[39m np\u001b[38;5;241m.\u001b[39mabs(xi_) \u001b[38;5;241m*\u001b[39m c \u001b[38;5;241m*\u001b[39m np\u001b[38;5;241m.\u001b[39msqrt( (\u001b[38;5;241m1\u001b[39m \u001b[38;5;241m-\u001b[39m mu_\u001b[38;5;241m*\u001b[39m\u001b[38;5;241m*\u001b[39m\u001b[38;5;241m2\u001b[39m) \u001b[38;5;241m*\u001b[39m M_A_disk ) ) \u001b[38;5;241m*\u001b[39m np\u001b[38;5;241m.\u001b[39mexp( \u001b[38;5;241m-\u001b[39m ( mu_ \u001b[38;5;241m-\u001b[39m \u001b[43mv_A\u001b[49m\u001b[43m \u001b[49m\u001b[38;5;241;43m/\u001b[39;49m\u001b[43m \u001b[49m\u001b[43m(\u001b[49m\u001b[43mxi_\u001b[49m\u001b[43m \u001b[49m\u001b[38;5;241;43m*\u001b[39;49m\u001b[43m \u001b[49m\u001b[43mc\u001b[49m\u001b[43m)\u001b[49m )\u001b[38;5;241m*\u001b[39m\u001b[38;5;241m*\u001b[39m\u001b[38;5;241m2\u001b[39m \u001b[38;5;241m/\u001b[39m ( \u001b[38;5;241m2\u001b[39m \u001b[38;5;241m*\u001b[39m (\u001b[38;5;241m1\u001b[39m \u001b[38;5;241m-\u001b[39m mu_\u001b[38;5;241m*\u001b[39m\u001b[38;5;241m*\u001b[39m\u001b[38;5;241m2\u001b[39m) \u001b[38;5;241m*\u001b[39m M_A_disk ) )\n\u001b[1;32m     19\u001b[0m     \u001b[38;5;28;01mif\u001b[39;00m ( (xi_ \u001b[38;5;241m!=\u001b[39m \u001b[38;5;241m0.\u001b[39m \u001b[38;5;129;01mand\u001b[39;00m xi_ \u001b[38;5;241m!=\u001b[39m \u001b[38;5;241m-\u001b[39m\u001b[38;5;241m0.\u001b[39m) \u001b[38;5;129;01mand\u001b[39;00m (mu_ \u001b[38;5;241m!=\u001b[39m \u001b[38;5;241m1.\u001b[39m \u001b[38;5;129;01mand\u001b[39;00m mu_ \u001b[38;5;241m!=\u001b[39m \u001b[38;5;241m-\u001b[39m\u001b[38;5;241m1.\u001b[39m) ):\n\u001b[1;32m     20\u001b[0m         \u001b[38;5;28;01mreturn\u001b[39;00m roba \n",
      "\u001b[0;31mZeroDivisionError\u001b[0m: float division by zero"
     ]
    },
    {
     "data": {
      "image/png": "[encoded data removed]",
      "text/plain": [
       "<Figure size 1250x500 with 2 Axes>"
      ]
     },
     "metadata": {},
     "output_type": "display_data"
    }
   ],
   "source": [
    "cosAlpha_symm = np.linspace(start = -1., stop = 1., num = 51)\n",
    "mu_array = np.linspace(start = -1., stop = 1., num = 51)\n",
    "xi_here = 0.\n",
    "mu_here = 1.\n",
    "\n",
    "\n",
    "plt.figure(figsize=(12.5, 5.))\n",
    "\n",
    "plt.subplot(1, 2, 1)\n",
    "plt.plot(cosAlpha_symm, [resonance_fast(1.e5, csi, mu_here, 2.14488e-8) for csi in cosAlpha_symm], lw=2., color='blue', label='current')\n",
    "plt.text(0.45, 0.05, '$\\\\mu = $' + str(\"{:.3f}\".format(mu_here)), fontsize=14, transform = plt.gca().transAxes)\n",
    "plt.xlabel('$\\\\xi$', fontsize = 15)\n",
    "plt.axvline(x=-1, ls='--', color='orange')\n",
    "plt.axvline(x=1, ls='--', color='orange')\n",
    "\n",
    "\n",
    "plt.subplot(1, 2, 2)\n",
    "plt.plot(mu_array, [resonance_fast(1.e5, xi_here, mu, 2.14488e-8) for mu in mu_array], lw=2., color='blue', label='current')\n",
    "plt.text(0.45, 0.05, '$\\\\xi = $' + str(\"{:.5f}\".format(xi_here)), fontsize=14, transform = plt.gca().transAxes)\n",
    "plt.xlabel('$\\\\mu$', fontsize = 15)\n",
    "plt.tight_layout()\n"
   ]
  },
  {
   "cell_type": "code",
   "execution_count": null,
   "id": "9fc8d9b7",
   "metadata": {},
   "outputs": [],
   "source": [
    "def f( x_ ):\n",
    "    return 1./np.abs(x_) * np.exp( -1. / x_**2 ) if x_ != 0 else 0.\n",
    "\n",
    "\n",
    "x_grid = np.linspace(start=-1., stop=+1., num=51)\n",
    "plt.plot(x_grid, [f(i) for i in x_grid])"
   ]
  },
  {
   "cell_type": "code",
   "execution_count": null,
   "id": "17b67e26",
   "metadata": {},
   "outputs": [],
   "source": []
  }
 ],
 "metadata": {
  "kernelspec": {
   "display_name": "Python 3 (ipykernel)",
   "language": "python",
   "name": "python3"
  },
  "language_info": {
   "codemirror_mode": {
    "name": "ipython",
    "version": 3
   },
   "file_extension": ".py",
   "mimetype": "text/x-python",
   "name": "python",
   "nbconvert_exporter": "python",
   "pygments_lexer": "ipython3",
   "version": "3.11.3"
  }
 },
 "nbformat": 4,
 "nbformat_minor": 5
}
